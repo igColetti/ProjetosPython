{
 "cells": [
  {
   "cell_type": "markdown",
   "metadata": {},
   "source": [
    "# Atividade para Nota - Tipo de Dado 'Dicionário'"
   ]
  },
  {
   "cell_type": "markdown",
   "metadata": {},
   "source": [
    "### Nome IGOR FARIA COLETTI"
   ]
  },
  {
   "cell_type": "markdown",
   "metadata": {},
   "source": [
    "<font color = blue>\n",
    "<h3> Questão 1 </h3>\n",
    "\n",
    "<p>\n",
    "    Defina o que é um Dicionário.\n",
    "              \n",
    "</p>\n",
    "</font>"
   ]
  },
  {
   "cell_type": "markdown",
   "metadata": {},
   "source": [
    "Definição:"
   ]
  },
  {
   "cell_type": "markdown",
   "metadata": {},
   "source": [
    "O dicionario funciona basicamente como uma lista, mas ao invés de você usar numeros como localizador dos dados ( indice ) você pode usar palavras ou palavras e numeros misturados ( chamadas de keys ) para localizar os dados que deseja, sendo uma forma mais flexivel de armazenamento de dados e busca tambem."
   ]
  },
  {
   "cell_type": "code",
   "execution_count": 5,
   "metadata": {},
   "outputs": [],
   "source": [
    "# Criação do dicionário\n",
    "materiaRogerio = {'Professor': 'Rogerio Sei lá', 'Materia': 'Python', 'qtdeAulas': '1' }\n"
   ]
  },
  {
   "cell_type": "code",
   "execution_count": 2,
   "metadata": {},
   "outputs": [
    {
     "name": "stdout",
     "output_type": "stream",
     "text": [
      "O nome do professor é: Rogerio Sei lá\n"
     ]
    }
   ],
   "source": [
    "# Caso precise criar o dicionario por resposta !\n",
    "materiaRogerio = {'Professor': 'Rogerio Sei lá', 'Materia': 'Python', 'qtdeAulas': '1' }\n",
    "# Exibição de um elemento específico do dicionário.\n",
    "print(f'O nome do professor é: {materiaRogerio[\"Professor\"]}')\n"
   ]
  },
  {
   "cell_type": "code",
   "execution_count": 6,
   "metadata": {},
   "outputs": [
    {
     "name": "stdout",
     "output_type": "stream",
     "text": [
      " Professor = Rogerio Sei lá \n",
      " Materia = Python \n",
      " qtdeAulas = 1 \n"
     ]
    }
   ],
   "source": [
    "# Caso precise criar o dicionario por resposta !\n",
    "materiaRogerio = {'Professor': 'Rogerio Sei lá', 'Materia': 'Python', 'qtdeAulas': '1' }\n",
    "# Exibição de todos os elementos do dicionário.\n",
    "for k, v in materiaRogerio.items():\n",
    "    print(f' {k} = {v} ')\n"
   ]
  },
  {
   "cell_type": "markdown",
   "metadata": {},
   "source": [
    "<font color = blue>\n",
    "<h3> Questão 3 </h3>\n",
    "\n",
    "<p>\n",
    "    Construa um exemplo apresentando:\n",
    "</p>\n",
    "<ul>\n",
    "    <li> A criação de um dicionário.</li>\n",
    "    <li> O uso da palavra-chave <b>in</b> para verificar a existência de uma chave específica no dicionário criado.</li>\n",
    "</ul>    \n",
    "</font>"
   ]
  },
  {
   "cell_type": "code",
   "execution_count": 4,
   "metadata": {},
   "outputs": [],
   "source": [
    "# Criação de um dicionário\n",
    "carro = {'Modelo': 'Fiat Uno', 'Ano': '1998', 'Cor' : 'Verde'}\n"
   ]
  },
  {
   "cell_type": "code",
   "execution_count": 5,
   "metadata": {},
   "outputs": [
    {
     "name": "stdout",
     "output_type": "stream",
     "text": [
      "Digite a chave que deseja buscar: Modelo\n",
      "A chave existe!\n"
     ]
    }
   ],
   "source": [
    "# Caso precise criar o dicionario por resposta !\n",
    "carro = {'Modelo': 'Fiat Uno', 'Ano': '1998', 'Cor' : 'Verde'}\n",
    "# Exemplificação do uso da palavra-chave in\n",
    "busca = str(input('Digite a chave que deseja buscar: '))\n",
    "\n",
    "if busca in carro:\n",
    "    print('A chave existe!')\n",
    "else:\n",
    "    print('A chave não existe!')\n"
   ]
  },
  {
   "cell_type": "markdown",
   "metadata": {},
   "source": [
    "<font color = blue>\n",
    "<h3> Questão 4 </h3>\n",
    "\n",
    "<p>\n",
    "    Construa um exemplo apresentando:\n",
    "</p>\n",
    "<ul>\n",
    "    <li> A criação de um dicionário.</li>\n",
    "    <li> A exibição de todos os elementos do dicionário.</li>\n",
    "    <li> A alteração de 2 elementos com novos valores.</li>\n",
    "    </ul>    \n",
    "</font>"
   ]
  },
  {
   "cell_type": "code",
   "execution_count": null,
   "metadata": {},
   "outputs": [],
   "source": [
    "# Criação de um dicionário\n",
    "pessoa = {'Nome': 'Igor', 'Idade': 19, 'Sexo': 'M'}"
   ]
  },
  {
   "cell_type": "code",
   "execution_count": 17,
   "metadata": {},
   "outputs": [
    {
     "name": "stdout",
     "output_type": "stream",
     "text": [
      " Nome = Igor \n",
      " Idade = 19 \n",
      " Sexo = M \n"
     ]
    }
   ],
   "source": [
    "# Caso precise criar o dicionario por resposta !\n",
    "pessoa = {'Nome': 'Igor', 'Idade': 19, 'Sexo': 'M'}\n",
    "# Exibição de todos os elementos do dicionário\n",
    "for k,v in pessoa.items():\n",
    "    print(f' {k} = {v} ')\n"
   ]
  },
  {
   "cell_type": "code",
   "execution_count": 18,
   "metadata": {},
   "outputs": [
    {
     "name": "stdout",
     "output_type": "stream",
     "text": [
      "------- Antes -------\n",
      " Nome = Igor \n",
      " Idade = 19 \n",
      " Sexo = M \n",
      "\n",
      "------- Depois -------\n",
      " Nome = Irineu \n",
      " Idade = 78 \n",
      " Sexo = M \n"
     ]
    }
   ],
   "source": [
    "# Alteração de 2 elementos com novos valores\n",
    "pessoa = {'Nome': 'Igor', 'Idade': 19, 'Sexo': 'M'}\n",
    "# Caso precise criar o dicionario por resposta !\n",
    "\n",
    "print('------- Antes -------')\n",
    "for k,v in pessoa.items():\n",
    "    print(f' {k} = {v} ')\n",
    "\n",
    "print('')\n",
    "print('------- Depois -------')\n",
    "pessoa['Nome'] = 'Irineu'\n",
    "pessoa['Idade'] = 78\n",
    "\n",
    "for k,v in pessoa.items():\n",
    "    print(f' {k} = {v} ')"
   ]
  },
  {
   "cell_type": "markdown",
   "metadata": {},
   "source": [
    "<font color = blue>\n",
    "<h3> Questão 5 </h3>\n",
    "\n",
    "<p>\n",
    "    Construa um exemplo apresentando:\n",
    "</p>\n",
    "<ul>\n",
    "    <li> A criação de um dicionário.</li>\n",
    "    <li> A adição de 2 novos elementos no dicionário.</li>\n",
    "    <li> A exibição de todos os elementos do dicionário.</li>\n",
    "    </ul>    \n",
    "</font>"
   ]
  },
  {
   "cell_type": "code",
   "execution_count": 8,
   "metadata": {},
   "outputs": [],
   "source": [
    "# Criação de um dicionário\n",
    "faculdade = {'Nome': 'UNIFAE', 'Diretor': 'Sei não', 'Cursos': 'Varios'}\n"
   ]
  },
  {
   "cell_type": "code",
   "execution_count": 9,
   "metadata": {},
   "outputs": [],
   "source": [
    "# Caso precise criar o dicionario por resposta !\n",
    "faculdade = {'Nome': 'UNIFAE', 'Diretor': 'Sei não', 'Cursos': 'Varios'}\n",
    "# Adição de 2 novos elementos no dicionário\n",
    "faculdade['Recomendaria'] = str(input('Digite se recomendaria ou não: '))\n",
    "faculdade['Nota'] = str(input('Digite a nota que você daria para a empresa: '))\n"
   ]
  },
  {
   "cell_type": "code",
   "execution_count": 19,
   "metadata": {},
   "outputs": [
    {
     "name": "stdout",
     "output_type": "stream",
     "text": [
      "Digite se recomendaria ou não: nçao\n",
      "Digite a nota que você daria para a empresa: 2\n",
      "--------------------\n",
      " Nome = UNIFAE \n",
      " Diretor = Sei não \n",
      " Cursos = Varios \n",
      " Recomendaria = nçao \n",
      " Nota = 2.0 \n"
     ]
    }
   ],
   "source": [
    "# Caso precise criar o dicionario por resposta !\n",
    "faculdade = {'Nome': 'UNIFAE', 'Diretor': 'Sei não', 'Cursos': 'Varios'}\n",
    "# Adição de 2 novos elementos no dicionário\n",
    "faculdade['Recomendaria'] = str(input('Digite se recomendaria ou não: '))\n",
    "faculdade['Nota'] = float(input('Digite a nota que você daria para a empresa: '))\n",
    "# Exibição de todos os elementos no dicionário \n",
    "print('--------------------')\n",
    "for k,v in faculdade.items():\n",
    "    print(f' {k} = {v} ')"
   ]
  },
  {
   "cell_type": "markdown",
   "metadata": {},
   "source": [
    "<font color = blue>\n",
    "<h3> Questão 6 </h3>\n",
    "\n",
    "<p>\n",
    "    Construa um exemplo apresentando:\n",
    "</p>\n",
    "<ul>\n",
    "    <li> A criação de um dicionário.</li>\n",
    "    <li> A remoção de itens no dicionário usando os métodos <b>pop()</b>, <b>popitem()</b> e <b>del</b>.</li>\n",
    "    </ul>    \n",
    "</font>"
   ]
  },
  {
   "cell_type": "code",
   "execution_count": 12,
   "metadata": {},
   "outputs": [],
   "source": [
    "# Criação de um dicionário\n",
    "emprego = {'Cargo': 'Professor', 'horasTrabalho': 5, 'Salario': 8700, 'anosTrabalhados': 12}\n"
   ]
  },
  {
   "cell_type": "code",
   "execution_count": 59,
   "metadata": {},
   "outputs": [
    {
     "name": "stdout",
     "output_type": "stream",
     "text": [
      "---Antes---\n",
      " Cargo = Professor \n",
      " Registrado = SIM \n",
      " Salario = 8700 \n",
      " anosTrabalhados = 12 \n",
      " Nome = Igor \n",
      "---Antes---\n",
      "\n",
      "--- pop() ---\n",
      "valor excluido: Professor\n",
      "\n",
      " Registrado = SIM \n",
      " Salario = 8700 \n",
      " anosTrabalhados = 12 \n",
      " Nome = Igor \n",
      "---pop()---\n",
      "\n",
      "--- popitem() ---\n",
      "valor e chave excluido \"\"(recortados)\"\": ('Nome', 'Igor')\n",
      "\n",
      " Registrado = SIM \n",
      " Salario = 8700 \n",
      " anosTrabalhados = 12 \n",
      "--- popitem() ---\n",
      "\n",
      "--- del() ---\n",
      " Salario = 8700 \n",
      " anosTrabalhados = 12 \n",
      "--- del() ---\n"
     ]
    }
   ],
   "source": [
    "# Caso precise criar o dicionario por resposta !\n",
    "emprego = {'Cargo': 'Professor', 'Registrado': 'SIM', 'Salario': 8700, 'anosTrabalhados': 12, 'Nome': 'Igor'}\n",
    "# Exclusão de elementos do dicionário usando os métodos pop(), popitem() e del()\n",
    "\n",
    "#antes  ========================\n",
    "print('---Antes---')\n",
    "for k,v in emprego.items():\n",
    "    print(f' {k} = {v} ')\n",
    "print('---Antes---')\n",
    "print('')\n",
    "\n",
    "#pop()  ======================== ( remove o valor e a chave selecionada no pop )\n",
    "print('--- pop() ---')\n",
    "print('valor excluido: ' + emprego.pop('Cargo', 'valor não encontrado'))\n",
    "print('')\n",
    "\n",
    "for k,v in emprego.items():\n",
    "    print(f' {k} = {v} ')\n",
    "    \n",
    "print('---pop()---')\n",
    "\n",
    "print('')\n",
    "\n",
    "#popitem() ======================== ( remove um item aleatorio do dicionario e retorna ele )\n",
    "print('--- popitem() ---')\n",
    "aux = emprego.popitem()\n",
    "print('valor e chave excluido \"\"(recortados)\"\": ' + str(aux))\n",
    "\n",
    "print('')\n",
    "\n",
    "for k,v in emprego.items():\n",
    "    print(f' {k} = {v} ')\n",
    "\n",
    "print('--- popitem() ---')\n",
    "\n",
    "print('')\n",
    "\n",
    "#del() ========================\n",
    "print('--- del() ---')\n",
    "del emprego['Registrado']\n",
    "\n",
    "for k,v in emprego.items():\n",
    "    print(f' {k} = {v} ')\n",
    "\n",
    "print('--- del() ---')\n",
    "\n",
    "\n",
    "\n",
    "\n",
    "\n",
    "\n"
   ]
  },
  {
   "cell_type": "markdown",
   "metadata": {},
   "source": [
    "<font color = blue>\n",
    "<h3> Questão 7 </h3>\n",
    "\n",
    "<p>\n",
    "    Construa um exemplo apresentando:\n",
    "</p>\n",
    "<ul>\n",
    "    <li> A criação de um dicionário.</li>\n",
    "    <li> A cópia de um dicionário usando o método <b>copy()</b>.</li>\n",
    "    <li> O uso do método <b>keys()</b> para retornar uma lista contendo as chaves do dicionário.</li>\n",
    "    <li> O uso do método <b>values()</b> para retornar uma lista contendo os valores do dicionário.</li>\n",
    "    <li> O uso do método <b>items()</b> para retornar uma tupla para cada par de chave/valor do dicionário.</li>\n",
    "    </ul>    \n",
    "</font>"
   ]
  },
  {
   "cell_type": "code",
   "execution_count": 33,
   "metadata": {},
   "outputs": [],
   "source": [
    "# Criação de um dicionário\n",
    "livro = {'nome': 'Logica de programação', 'dataLancamento': 2022, 'autor': 'Nao sei'}\n"
   ]
  },
  {
   "cell_type": "code",
   "execution_count": 61,
   "metadata": {},
   "outputs": [
    {
     "name": "stdout",
     "output_type": "stream",
     "text": [
      " nome = Logica de programação \n",
      " dataLancamento = 2022 \n",
      " autor = Nao sei \n"
     ]
    }
   ],
   "source": [
    "# Caso precise criar o dicionario por resposta !\n",
    "livro = {'nome': 'Logica de programação', 'dataLancamento': 2022, 'autor': 'Nao sei'}\n",
    "\n",
    "# Cópia do dicionário\n",
    "livro2 = livro.copy()\n",
    "\n",
    "#mostrando os valores do dicionario copia\n",
    "for k,v in livro2.items():\n",
    "    print(f' {k} = {v} ')\n"
   ]
  },
  {
   "cell_type": "code",
   "execution_count": 63,
   "metadata": {},
   "outputs": [
    {
     "name": "stdout",
     "output_type": "stream",
     "text": [
      " nome \n",
      " dataLancamento \n",
      " autor \n"
     ]
    }
   ],
   "source": [
    "# Caso precise criar o dicionario por resposta !\n",
    "livro = {'nome': 'Logica de programação', 'dataLancamento': 2022, 'autor': 'Nao sei'}\n",
    "\n",
    "# Uso do método keys()\n",
    "\n",
    "for k in livro.keys():\n",
    "    print(f' {k} ')\n"
   ]
  },
  {
   "cell_type": "code",
   "execution_count": 65,
   "metadata": {},
   "outputs": [
    {
     "name": "stdout",
     "output_type": "stream",
     "text": [
      " Logica de programação \n",
      " 2022 \n",
      " Nao sei \n"
     ]
    }
   ],
   "source": [
    "# Caso precise criar o dicionario por resposta !\n",
    "livro = {'nome': 'Logica de programação', 'dataLancamento': 2022, 'autor': 'Nao sei'}\n",
    "\n",
    "# Uso do método values()\n",
    "\n",
    "for v in livro.values():\n",
    "    print(f' {v} ')\n"
   ]
  },
  {
   "cell_type": "code",
   "execution_count": 66,
   "metadata": {},
   "outputs": [
    {
     "name": "stdout",
     "output_type": "stream",
     "text": [
      " nome = Logica de programação \n",
      " dataLancamento = 2022 \n",
      " autor = Nao sei \n"
     ]
    }
   ],
   "source": [
    "# Caso precise criar o dicionario por resposta !\n",
    "livro = {'nome': 'Logica de programação', 'dataLancamento': 2022, 'autor': 'Nao sei'}\n",
    "\n",
    "# Uso do método items()\n",
    "for k,v in livro2.items():\n",
    "    print(f' {k} = {v} ')\n"
   ]
  },
  {
   "cell_type": "code",
   "execution_count": null,
   "metadata": {},
   "outputs": [],
   "source": []
  }
 ],
 "metadata": {
  "kernelspec": {
   "display_name": "Python 3 (ipykernel)",
   "language": "python",
   "name": "python3"
  },
  "language_info": {
   "codemirror_mode": {
    "name": "ipython",
    "version": 3
   },
   "file_extension": ".py",
   "mimetype": "text/x-python",
   "name": "python",
   "nbconvert_exporter": "python",
   "pygments_lexer": "ipython3",
   "version": "3.9.13"
  }
 },
 "nbformat": 4,
 "nbformat_minor": 4
}
